{
  "cells": [
    {
      "cell_type": "markdown",
      "metadata": {
        "id": "view-in-github",
        "colab_type": "text"
      },
      "source": [
        "<a href=\"https://colab.research.google.com/github/NandhanaRameshkumar/Bayesian_Network/blob/main/Bayesian_Network.ipynb\" target=\"_parent\"><img src=\"https://colab.research.google.com/assets/colab-badge.svg\" alt=\"Open In Colab\"/></a>"
      ]
    },
    {
      "cell_type": "code",
      "execution_count": null,
      "id": "054e5681",
      "metadata": {
        "id": "054e5681",
        "outputId": "42ec4d9e-28b1-4c5d-d147-1ff731bb234c"
      },
      "outputs": [
        {
          "name": "stdout",
          "output_type": "stream",
          "text": [
            "Requirement already satisfied: pgmpy in c:\\users\\lenovo\\anaconda3\\lib\\site-packages (0.1.25)\n",
            "Requirement already satisfied: scipy in c:\\users\\lenovo\\anaconda3\\lib\\site-packages (from pgmpy) (1.7.3)\n",
            "Requirement already satisfied: pyparsing in c:\\users\\lenovo\\anaconda3\\lib\\site-packages (from pgmpy) (3.0.4)\n",
            "Requirement already satisfied: statsmodels in c:\\users\\lenovo\\anaconda3\\lib\\site-packages (from pgmpy) (0.13.2)\n",
            "Requirement already satisfied: opt-einsum in c:\\users\\lenovo\\anaconda3\\lib\\site-packages (from pgmpy) (3.3.0)\n",
            "Requirement already satisfied: networkx in c:\\users\\lenovo\\anaconda3\\lib\\site-packages (from pgmpy) (2.7.1)\n",
            "Requirement already satisfied: torch in c:\\users\\lenovo\\anaconda3\\lib\\site-packages (from pgmpy) (2.1.0)\n",
            "Requirement already satisfied: scikit-learn in c:\\users\\lenovo\\anaconda3\\lib\\site-packages (from pgmpy) (1.0.2)\n",
            "Requirement already satisfied: numpy in c:\\users\\lenovo\\anaconda3\\lib\\site-packages (from pgmpy) (1.22.4)\n",
            "Requirement already satisfied: joblib in c:\\users\\lenovo\\anaconda3\\lib\\site-packages (from pgmpy) (1.1.0)\n",
            "Requirement already satisfied: pandas in c:\\users\\lenovo\\anaconda3\\lib\\site-packages (from pgmpy) (1.4.2)\n",
            "Requirement already satisfied: tqdm in c:\\users\\lenovo\\anaconda3\\lib\\site-packages (from pgmpy) (4.64.0)\n",
            "Requirement already satisfied: python-dateutil>=2.8.1 in c:\\users\\lenovo\\anaconda3\\lib\\site-packages (from pandas->pgmpy) (2.8.2)\n",
            "Requirement already satisfied: pytz>=2020.1 in c:\\users\\lenovo\\anaconda3\\lib\\site-packages (from pandas->pgmpy) (2021.3)\n",
            "Requirement already satisfied: six>=1.5 in c:\\users\\lenovo\\anaconda3\\lib\\site-packages (from python-dateutil>=2.8.1->pandas->pgmpy) (1.16.0)\n",
            "Requirement already satisfied: threadpoolctl>=2.0.0 in c:\\users\\lenovo\\anaconda3\\lib\\site-packages (from scikit-learn->pgmpy) (2.2.0)\n",
            "Requirement already satisfied: patsy>=0.5.2 in c:\\users\\lenovo\\anaconda3\\lib\\site-packages (from statsmodels->pgmpy) (0.5.2)\n",
            "Requirement already satisfied: packaging>=21.3 in c:\\users\\lenovo\\anaconda3\\lib\\site-packages (from statsmodels->pgmpy) (21.3)\n",
            "Requirement already satisfied: fsspec in c:\\users\\lenovo\\anaconda3\\lib\\site-packages (from torch->pgmpy) (2023.6.0)\n",
            "Requirement already satisfied: filelock in c:\\users\\lenovo\\anaconda3\\lib\\site-packages (from torch->pgmpy) (3.6.0)\n",
            "Requirement already satisfied: typing-extensions in c:\\users\\lenovo\\anaconda3\\lib\\site-packages (from torch->pgmpy) (4.5.0)\n",
            "Requirement already satisfied: sympy in c:\\users\\lenovo\\anaconda3\\lib\\site-packages (from torch->pgmpy) (1.10.1)\n",
            "Requirement already satisfied: jinja2 in c:\\users\\lenovo\\anaconda3\\lib\\site-packages (from torch->pgmpy) (2.11.3)\n",
            "Requirement already satisfied: MarkupSafe>=0.23 in c:\\users\\lenovo\\anaconda3\\lib\\site-packages (from jinja2->torch->pgmpy) (2.0.1)\n",
            "Requirement already satisfied: mpmath>=0.19 in c:\\users\\lenovo\\anaconda3\\lib\\site-packages (from sympy->torch->pgmpy) (1.2.1)\n",
            "Requirement already satisfied: colorama in c:\\users\\lenovo\\anaconda3\\lib\\site-packages (from tqdm->pgmpy) (0.4.4)\n",
            "Note: you may need to restart the kernel to use updated packages.\n"
          ]
        }
      ],
      "source": [
        "pip install pgmpy"
      ]
    },
    {
      "cell_type": "code",
      "execution_count": null,
      "id": "ac57256d",
      "metadata": {
        "id": "ac57256d",
        "outputId": "caf585be-51c9-45c7-d828-12d26df1006b"
      },
      "outputs": [
        {
          "name": "stderr",
          "output_type": "stream",
          "text": [
            "WARNING:pgmpy:BayesianModel has been renamed to BayesianNetwork. Please use BayesianNetwork class, BayesianModel will be removed in future.\n",
            "WARNING:pgmpy:BayesianModel has been renamed to BayesianNetwork. Please use BayesianNetwork class, BayesianModel will be removed in future.\n",
            "WARNING:pgmpy:BayesianModel has been renamed to BayesianNetwork. Please use BayesianNetwork class, BayesianModel will be removed in future.\n"
          ]
        },
        {
          "name": "stdout",
          "output_type": "stream",
          "text": [
            "True\n",
            "BayesianModel with 3 nodes and 3 edges\n",
            "+-------------+-----------------+\n",
            "| GrassWet    |   phi(GrassWet) |\n",
            "+=============+=================+\n",
            "| GrassWet(0) |          0.6800 |\n",
            "+-------------+-----------------+\n",
            "| GrassWet(1) |          0.3200 |\n",
            "+-------------+-----------------+\n"
          ]
        }
      ],
      "source": [
        "import pandas as pd\n",
        "from pgmpy.models import BayesianModel\n",
        "from pgmpy.factors.discrete import TabularCPD\n",
        "from pgmpy.inference import VariableElimination\n",
        "# Define the dataset (replace with your actual data)\n",
        "data = pd.DataFrame({\n",
        "    'Sprinkler': ['sunny', 'sunny', 'cloudy', 'rainy'],\n",
        "    'GrassWet': ['dry', 'wet', 'wet', 'wet'],\n",
        "    'Rain': ['false', 'false', 'true', 'true']\n",
        "})\n",
        "model = BayesianModel([('Rain', 'Sprinkler'), ('Rain', 'GrassWet'), ('Sprinkler', 'GrassWet')])\n",
        "cpd_rain = TabularCPD(variable='Rain', variable_card=2, values=[[0.8], [0.2]])\n",
        "cpd_sprinkler = TabularCPD(variable='Sprinkler', variable_card=2, values=[[0.5, 0.8], [0.5, 0.2]], evidence=['Rain'], evidence_card=[2])\n",
        "cpd_grasswet = TabularCPD(variable='GrassWet', variable_card=2, values=[[0.9, 0.1, 0.8, 0.2], [0.1, 0.9, 0.2, 0.8]], evidence=['Rain', 'Sprinkler'], evidence_card=[2, 2])\n",
        "# Add CPDs to the model\n",
        "model.add_cpds(cpd_rain, cpd_sprinkler, cpd_grasswet)\n",
        "# Check model for consistency\n",
        "print(model.check_model())\n",
        "# Create an inference object\n",
        "inference = VariableElimination(model)\n",
        "# Print the structure of the network\n",
        "print(model)\n",
        "# Example query: What is the probability of grass being wet given it's raining?\n",
        "query = ['GrassWet']\n",
        "evidence = {'Rain': 1}  # Use numerical values for evidence: 1 for 'true', 0 for 'false'\n",
        "posteriors = inference.query(variables=query, evidence=evidence)\n",
        "print(posteriors)"
      ]
    },
    {
      "cell_type": "code",
      "execution_count": null,
      "id": "53211a85",
      "metadata": {
        "id": "53211a85",
        "outputId": "38438cae-c048-47c0-c49f-00ed7f71f8ae"
      },
      "outputs": [
        {
          "data": {
            "image/png": "[encoded data removed]",
            "text/plain": [
              "<Figure size 432x288 with 1 Axes>"
            ]
          },
          "metadata": {},
          "output_type": "display_data"
        }
      ],
      "source": [
        "import networkx as nx\n",
        "import matplotlib.pyplot as plt\n",
        "\n",
        "# Create a directed graph from the Bayesian network structure\n",
        "graph = nx.DiGraph(model.edges())\n",
        "\n",
        "# Set node positions based on a hierarchical layout\n",
        "pos = nx.planar_layout(graph)\n",
        "\n",
        "# Draw nodes\n",
        "nx.draw_networkx_nodes(graph, pos, node_size=700, node_color='skyblue')\n",
        "\n",
        "# Draw edges\n",
        "nx.draw_networkx_edges(graph, pos, arrows=True, arrowstyle='->', arrowsize=10)\n",
        "\n",
        "# Add labels to nodes\n",
        "nx.draw_networkx_labels(graph, pos, font_size=12, font_family='sans-serif')\n",
        "\n",
        "# Display the graph\n",
        "plt.title('Bayesian Network Graph')\n",
        "plt.axis('off')\n",
        "plt.show()\n"
      ]
    }
  ],
  "metadata": {
    "kernelspec": {
      "display_name": "Python 3 (ipykernel)",
      "language": "python",
      "name": "python3"
    },
    "language_info": {
      "codemirror_mode": {
        "name": "ipython",
        "version": 3
      },
      "file_extension": ".py",
      "mimetype": "text/x-python",
      "name": "python",
      "nbconvert_exporter": "python",
      "pygments_lexer": "ipython3",
      "version": "3.9.12"
    },
    "colab": {
      "provenance": [],
      "include_colab_link": true
    }
  },
  "nbformat": 4,
  "nbformat_minor": 5
}